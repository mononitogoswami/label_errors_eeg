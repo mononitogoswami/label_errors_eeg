{
 "cells": [
  {
   "cell_type": "code",
   "execution_count": 1,
   "metadata": {},
   "outputs": [],
   "source": [
    "from identify_label_errors import dataset"
   ]
  },
  {
   "cell_type": "code",
   "execution_count": 2,
   "metadata": {},
   "outputs": [
    {
     "name": "stdout",
     "output_type": "stream",
     "text": [
      "Data shape: (5562, 8)\n",
      "Data distribution: \n",
      "Counter({'NORMAL': 2986, 'SUPPRESSED_WITH_ICTAL': 1111, 'SUPPRESSED': 814, 'BURST_SUPRESSION': 649, None: 2})\n"
     ]
    }
   ],
   "source": [
    "# Load dataset and expert labels\n",
    "data, expert_labels = dataset.load_data()"
   ]
  }
 ],
 "metadata": {
  "kernelspec": {
   "display_name": "Python 3",
   "language": "python",
   "name": "python3"
  },
  "language_info": {
   "codemirror_mode": {
    "name": "ipython",
    "version": 3
   },
   "file_extension": ".py",
   "mimetype": "text/x-python",
   "name": "python",
   "nbconvert_exporter": "python",
   "pygments_lexer": "ipython3",
   "version": "3.9.13"
  },
  "orig_nbformat": 4,
  "vscode": {
   "interpreter": {
    "hash": "d797e230776133ebc830abf7f5c1bc56021b58c7233827169bdf20a255af9064"
   }
  }
 },
 "nbformat": 4,
 "nbformat_minor": 2
}
